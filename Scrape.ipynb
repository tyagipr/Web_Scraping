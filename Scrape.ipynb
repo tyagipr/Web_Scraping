{
 "cells": [
  {
   "cell_type": "code",
   "execution_count": 1,
   "metadata": {
    "scrolled": true
   },
   "outputs": [
    {
     "name": "stdout",
     "output_type": "stream",
     "text": [
      "A Light in the ...\n",
      "Tipping the Velvet\n",
      "Soumission\n",
      "Sharp Objects\n",
      "Sapiens: A Brief History ...\n",
      "The Requiem Red\n",
      "The Dirty Little Secrets ...\n",
      "The Coming Woman: A ...\n",
      "The Boys in the ...\n",
      "The Black Maria\n",
      "Starving Hearts (Triangular Trade ...\n",
      "Shakespeare's Sonnets\n",
      "Set Me Free\n",
      "Scott Pilgrim's Precious Little ...\n",
      "Rip it Up and ...\n",
      "Our Band Could Be ...\n",
      "Olio\n",
      "Mesaerion: The Best Science ...\n",
      "Libertarianism for Beginners\n",
      "It's Only the Himalayas\n"
     ]
    }
   ],
   "source": [
    "import requests \n",
    "from bs4 import BeautifulSoup\n",
    "import csv\n",
    "\n",
    "#url of the website\n",
    "URL = \"http://books.toscrape.com\"\n",
    "\n",
    "#request for html data and download it\n",
    "r = requests.get(URL)\n",
    "\n",
    "#save html content after parsing the data \n",
    "soup = BeautifulSoup(r.content, 'html5lib') \n",
    "# print(soup.prettify()) \n",
    "\n",
    "#put the data of books in container \n",
    "container = soup.findAll('h3')\n",
    "\n",
    "\n",
    "\n",
    "out_filename = \"E:/books_details.csv\"\n",
    "# header of csv file to be written\n",
    "headers = \"title,book_url,price \\n\"\n",
    "\n",
    "f = open(out_filename, \"w\")\n",
    "f.write(headers)\n",
    "\n",
    "#create list for putting title,links and price from website\n",
    "links = []\n",
    "title = []\n",
    "price = []\n",
    "\n",
    "for data in container:\n",
    "    names = data.text\n",
    "    title.append(names)\n",
    "    name = title[-1]\n",
    "    print(name)\n",
    "\n",
    "    \n",
    "for data2 in container:\n",
    "    book_link = data2.a.get('href')\n",
    "    links.append(book_link)\n",
    "    book_li = links[-1]\n",
    "\n",
    "        \n",
    "    \n",
    "list2 = soup.findAll('p', attrs = {'class' : 'price_color'})\n",
    "\n",
    "for data1 in list2:\n",
    "    book_price = data1.text\n",
    "    price.append(book_price)\n",
    "    price_book = price[-1]\n",
    "\n",
    "\n",
    "\n",
    "f.write(name + \", \" + book_li .replace(\",\", \"|\") + \", \" + price_book + \"\\n\")\n",
    "f.close()  \n",
    "         \n",
    "   \n",
    "    \n",
    "    \n",
    "\n",
    "    \n",
    "    \n",
    "\n",
    "\n",
    "\n",
    "\n",
    "\n"
   ]
  },
  {
   "cell_type": "code",
   "execution_count": null,
   "metadata": {},
   "outputs": [],
   "source": []
  }
 ],
 "metadata": {
  "kernelspec": {
   "display_name": "Python 3",
   "language": "python",
   "name": "python3"
  },
  "language_info": {
   "codemirror_mode": {
    "name": "ipython",
    "version": 3
   },
   "file_extension": ".py",
   "mimetype": "text/x-python",
   "name": "python",
   "nbconvert_exporter": "python",
   "pygments_lexer": "ipython3",
   "version": "3.6.5"
  }
 },
 "nbformat": 4,
 "nbformat_minor": 2
}
